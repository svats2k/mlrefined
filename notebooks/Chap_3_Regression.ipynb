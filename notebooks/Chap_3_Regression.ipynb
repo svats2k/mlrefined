{
 "cells": [
  {
   "cell_type": "markdown",
   "metadata": {},
   "source": [
    "# Chapter 3: Regression"
   ]
  },
  {
   "cell_type": "markdown",
   "metadata": {},
   "source": [
    "# 1.  What is linear regression?\n",
    "Let's get down to brass tacks and flush out specific details about how regression - or the task of predicting a continuous (or near-continuous) value - is modeled and implemented in practice. We will first discuss linear regression, or the fitting of a line / hyperpalne to data, and then discuss the fitting of nonlinear curves / surfaces.\n",
    "\n",
    "## The setup\n",
    "First lets say we have $P$ input / output data points of the form\n",
    "\n",
    "\\begin{equation}\n",
    "\\left(x_{1},\\,y_{1}\\right),\\,\\left(x_{2},y_{2}\\right),...,\\left(x_{P},y_{P}\\right)\n",
    "\\end{equation}\n",
    "\n",
    "\n",
    "where here the $p^{th}$ input is $x_{p}$ and corresponding\n",
    "output is $y_{p}$. Here both the input feature and output are scalar-valued\n",
    "(that is one value in, one value out), and the above can be written\n",
    "more compactly just as $\\left\\{ \\left(x_{p},y_{p}\\right)\\right\\} _{p=1}^{P}$.   We will deal with the instance where we have multidimensional input in just a moment.  \n",
    "\n",
    "In this class we will write the equation of a line as \n",
    "\n",
    "\\begin{equation}\n",
    "b+xw=y\n",
    "\\end{equation}\n",
    "\n",
    "\n",
    "where $x$ and $y$ are the input and output variables respectively\n",
    "(given along the horizontal axis and vertical axes in the figure below),\n",
    "$w$ is the slope (rise over run) of the line, and $b$ is its 'y-intercept'\n",
    "which we will often refer to as the 'bias'. We will often refer to\n",
    "$b$ and $w$ collectively as 'weights' or 'parameters' (this image is taken from [1]).\n",
    "\n",
    "<img src=\"images/line_hyperplane.png\" width=600 height=600/>\n",
    "\n",
    "Now given this notation we can translate our desire to determine a\n",
    "\\emph{linear} relationship between our input features and output mathematically\n",
    "as the desire to learn proper weights $b$ and $w$ so that\n",
    "\n",
    "\\begin{equation}\n",
    "b+x_{p}w=y_{p}\n",
    "\\end{equation}\n",
    "\n",
    "\n",
    "for all points $p=1,...,P.$ In other words, we want to find the slope\n",
    "and intercept of a line that contains all of our data. However in\n",
    "most instances this is too restrictive of a demand, as it is unlikely\n",
    "that our data all lies on a single line (like the toy data shown in\n",
    "Figure \\ref{fig: line-hyperplane}). But all is not lost - we just\n",
    "need to loosen our goal and seek out the weights of a line on which\n",
    "the data \\emph{approximately} lies or, in other words, an approximate\n",
    "linear relationship between the input and output for all $p$. Stated\n",
    "algebraically this is\n",
    "\n",
    "\\begin{equation}\n",
    "b+x_{p}w\\approx y_{p}.\n",
    "\\end{equation}\n",
    "\n",
    "Lets take a moment and make sure you're following so far. Our aim\n",
    "is to determine the weights $b$ and $w$ of a line $b+xw=y$ that\n",
    "approximately represents our given dataset. Now if our dataset is\n",
    "not related linearly this goal will clearly be inadequate, but lets\n",
    "assume for the time being that it is to see how we can tune these\n",
    "parameters correctly.\n",
    "\n",
    "\n",
    "## 1.2  The linear regression model with multiple inputs\n",
    "\n",
    "What if we have multiple inputs we need to use to predict our output?\n",
    "For example, in a financial application we may want to predict the\n",
    "future price of some financial product based on its past values, the\n",
    "values of related commodities, national economic indicators, etc.,\n",
    "How do we formulate the linear regression model? \n",
    "\n",
    "First lets say we still have $P$ input / output pairs, but now each\n",
    "input point has $N$ dimensions (one for each type of input to our\n",
    "problem). So instead of using a scalar $x_{p}$ to indicate the $p^{th}$\n",
    "point we use the bold $\\mathbf{x}_{p}$, where this is now an $N$\n",
    "dimensional vector taking the form\n",
    "\\begin{equation}\n",
    "\\mathbf{x}_{p}=\\left[\\begin{array}{c}\n",
    "x_{1,p}\\\\\n",
    "x_{2,p}\\\\\n",
    "\\vdots\\\\\n",
    "x_{N,p}\n",
    "\\end{array}\\right].\n",
    "\\end{equation}\n",
    "\n",
    "\n",
    "To learn a perfect linear relationship between our outputs and inputs\n",
    "we then aim to tune a set of $N+1$ parameters so that the weighted\n",
    "linear combination \n",
    "\n",
    "\\begin{equation}\n",
    "b+\\underset{n=1}{\\overset{N}{\\sum}}x_{n,p}w_{n}=y_{p}\n",
    "\\end{equation}\n",
    "\n",
    "\n",
    "holds for all $p$. For each $p$ we can write this more compactly\n",
    "by using inner product notation and denoting by $\\mathbf{w}=\\left[\\begin{array}{c}\n",
    "w_{1}\\\\\n",
    "w_{2}\\\\\n",
    "\\vdots\\\\\n",
    "w_{N}\n",
    "\\end{array}\\right]$, \n",
    "\n",
    "since \n",
    "\n",
    "\\begin{equation}\n",
    "\\mathbf{x}_{p}^{T}\\mathbf{w}=\\underset{n=1}{\\overset{N}{\\sum}}x_{n,p}w_{n},\n",
    "\\end{equation}\n",
    "\n",
    "\n",
    "\n",
    "as\n",
    "\n",
    "\n",
    "\\begin{equation}\n",
    "b+\\mathbf{x}_{p}^{T}\\mathbf{w}=y_{p}.\n",
    "\\end{equation}\n",
    "\n",
    "\n",
    "Notice how this is completely analogous to equation (\\ref{eq:low-dim-perfect-linear-relationships}) and reduces to it when we have only one type of input to the problem, or i.e., when $N=1$. That is, the equation $b+\\mathbf{x}_{p}^{T}\\mathbf{w}=y_{p}$ is the same as $b+x_{p}w=y_{p}$ when $N=1$.\n",
    "\n",
    "As with the low dimensional case, we can't expect our data to be \\emph{perfectly} linearly related. This almost never happens. So lets loosen this and go for learning weights so that we \\emph{almost} have a linear relationship between our input and output. That is\n",
    "\n",
    "\\begin{equation}\n",
    "b+\\mathbf{x}_{p}^{T}\\mathbf{w}\\approx y_{p}\n",
    "\\end{equation}\n",
    "\n",
    "\n",
    "for all $p$. Notice, once again, how this is precisely the generalization\n",
    "of the low dimensional version first in equation (\\ref{eq:approximate linear relationship scalar version}). In other words, the desire that $b+\\mathbf{x}_{p}^{T}\\mathbf{w}\\approx y_{p}$ is precisely $b+x_{p}w\\approx y_{p}$ when $N=1$. \n",
    "\n",
    "\n",
    "##  1.3 Forming the least squares cost function\n",
    "How can we tune the weights properly so that ([eq:approximate-linear-equation-vector-input]) holds as well as possible? First observe that if the weights are tuned so that this relationship does indeed hold then for each p, then equivalently the squared error between the line evaluated at an input $b+\\mathbf{x}_{p}^{T}\\mathbf{w}$ and its corresponding output $y_{p}$, or in other words the quantity $\\left(b+\\mathbf{x}_{p}^{T}\\mathbf{w}-y_{p}\\right)^{2}$, should be reasonably small. This error is illustrated as the dashed line between each point (here $N=1$) and the representative line, shown in magenta (this image is taken from [1]). \n",
    "\n",
    "<img src=\"images/squared-error.png\" width=300 height=300/>\n",
    "\n",
    "\n",
    "Clearly this value needs to be small and, moreover, we want the sum\n",
    "of this error over the entire dataset to be small as well i.e., the\n",
    "value\n",
    "\n",
    "\\begin{equation}\n",
    "g\\left(b,\\mathbf{w}\\right)^{}=\\underset{p=1}{\\overset{P}{\\sum}}\\left(b^{}+\\mathbf{x}_{p}^{T}\\mathbf{w}^{}-y_{p}^{}\\right)^{2}.\n",
    "\\end{equation}\n",
    "\n",
    "\n",
    "Here we have used the function notation $g\\left(b,\\mathbf{w}\\right)$\n",
    "to indicate that the value of the quantity is completely dependent\n",
    "on our choice of weights $b$ and $\\mathbf{w}$ - the better we tune\n",
    "these values, the smaller the corresponding \\emph{cost function} $g\\left(b,\\mathbf{w}\\right)$ should be\\footnote{More specifically, this cost function is typically referred to as the \\emph{Least Squares} cost since it measures the squared error between the linear model at each input and its corresponding output.}. In other words, we want to determine weights which \\emph{minimize} this quantity. This desire is stated more formally as\n",
    "\n",
    "\\begin{equation}\n",
    "\\underset{b,\\mathbf{w}}{\\mbox{minimize}} \\underset{p=1}{\\overset{P}{\\sum}}\\left(b^{}+\\mathbf{x}_{p}^{T}\\mathbf{w}^{}-y_{p}^{}\\right)^{2}.\n",
    "\\end{equation}\n",
    "\n",
    "\n",
    "Fine. But so far it does not look like we have accomplished much of\n",
    "anything, other than stating the relationship in (\\ref{eq:approximate linear relationship scalar version}) in a slightly different way. However this manner of expressing (\\ref{eq:approximate linear relationship scalar version}) is actually much more useful, as there are practical tools that we can use to solve such a problem or, in other words, \\emph{minimize}\n",
    "such a cost function numerically (i.e., on a computer) and so determine\n",
    "proper values for the parameters. These tools are based entirely on\n",
    "fundamental concepts from calculus and are typically referred to as\n",
    "*mathematical* or *nonlinear optimization*.\n",
    "\n",
    "\n",
    "##  1.4  Solving the Least Squares problem\n",
    "\n",
    "Now that we recall the first order condition from calculus, lets see if we can apply it in the case of the Least Squares cost function.  To perform calculations it will first be convenient to use the following more compact notation\n",
    "\n",
    "\\begin{equation}\n",
    "\\begin{array}{cc}\n",
    "\\mathbf{\\tilde{x}}_{p}=\\left[\\begin{array}{c}\n",
    "1\\\\\n",
    "\\mathbf{x}_{p}\n",
    "\\end{array}\\right] & \\,\\,\\,\\,\\,\\mathbf{\\tilde{w}}=\\left[\\begin{array}{c}\n",
    "b\\\\\n",
    "\\mathbf{w}\n",
    "\\end{array}\\right]\\end{array}.\n",
    "\\end{equation}\n",
    "\n",
    "With this notation we can rewrite the Least Squares cost function shown in in terms of the single vector $\\mathbf{\\tilde{w}}$ of parameters as\n",
    "\n",
    "\\begin{equation}\n",
    "g^{}\\left(\\mathbf{\\tilde{w}}\\right)^{}=\\underset{p=1}{\\overset{P}{\\sum}}\\left(\\mathbf{\\tilde{x}}_{p}^{T}\\mathbf{\\tilde{w}^{}}-y_{p}^{\\,}\\right)^{2}.\n",
    "\\end{equation}\n",
    "\n",
    "This is useful because now we can clearly see - by simply rewriting the cost function - that it is in fact a simple quadratic function!  We saw in the first week of the course that there is a closed form solution to the first order condition for such functions.  \n",
    "\n",
    "since by 'completing the square' we have $\\left(\\tilde{\\mathbf{x}}_{p}^{T}\\tilde{\\mathbf{w}}-y_{p}\\right)^{2}=\\left(\\tilde{\\mathbf{x}}_{p}^{T}\\tilde{\\mathbf{w}}\\right)^{2}-2\\tilde{\\mathbf{x}}_{p}^{T}\\tilde{\\mathbf{w}}+y_{p}^{2}$\n",
    "and since $\\tilde{\\mathbf{x}}_{p}^{T}\\tilde{\\mathbf{w}}=\\tilde{\\mathbf{w}}^{T}\\tilde{\\mathbf{x}}_{p}$\n",
    "the term $\\left(\\tilde{\\mathbf{x}}_{p}^{T}\\tilde{\\mathbf{w}}\\right)^{2}=\\left(\\tilde{\\mathbf{x}}_{p}^{T}\\tilde{\\mathbf{w}}\\right)\\left(\\tilde{\\mathbf{x}}_{p}^{T}\\tilde{\\mathbf{w}}\\right)=\\left(\\tilde{\\mathbf{w}}^{T}\\tilde{\\mathbf{x}}_{p}\\right)\\left(\\tilde{\\mathbf{x}}_{p}^{T}\\tilde{\\mathbf{w}}\\right)=\\tilde{\\mathbf{w}}^{T}\\tilde{\\mathbf{x}}_{p}\\tilde{\\mathbf{x}}_{p}^{T}\\tilde{\\mathbf{w}}$.\n",
    "So all together we can write that $\\underset{p=1}{\\overset{P}{\\sum}}\\left(\\tilde{\\mathbf{x}}_{p}^{T}\\tilde{\\mathbf{w}}-y_{p}\\right)^{2}$ is equal too\n",
    "\n",
    "\\begin{equation}\n",
    "\\underset{p=1}{\\overset{P}{\\sum}}\\left(\\tilde{\\mathbf{w}}^{T}\\tilde{\\mathbf{x}}_{p}\\tilde{\\mathbf{x}}_{p}^{T}\\tilde{\\mathbf{w}}-2\\tilde{\\mathbf{x}}_{p}^{T}\\tilde{\\mathbf{w}}+y_{p}^{2}\\right)=\\tilde{\\mathbf{w}}^{T}\\left(\\underset{p=1}{\\overset{P}{\\sum}}\\tilde{\\mathbf{x}}_{p}\\tilde{\\mathbf{x}}_{p}^{T}\\right)\\tilde{\\mathbf{w}}-2\\left(\\underset{p=1}{\\overset{P}{\\sum}}\\tilde{\\mathbf{x}}_{p}^{T}\\right)\\tilde{\\mathbf{w}}+\\underset{p=1}{\\overset{P}{\\sum}}y_{p}^{2}\n",
    "\\end{equation}\n",
    "\n",
    "\n",
    "Looking closely at the formula above - we can see that it is a quadratic form $g\\left(\\tilde{\\mathbf{w}}\\right)=\\frac{1}{2}\\tilde{\\mathbf{w}}^{T}\\mathbf{Q}\\tilde{\\mathbf{w}}+\\mathbf{r}^{T}\\tilde{\\mathbf{s}}+c$\n",
    "where $\\mathbf{Q}=2\\underset{p=1}{\\overset{P}{\\sum}}\\tilde{\\mathbf{x}}_{p}^{\\,}\\tilde{\\mathbf{x}}_{p}^{T}$,\n",
    "$\\mathbf{r}=2\\underset{p=1}{\\overset{P}{\\sum}}\\tilde{\\mathbf{x}}_{p}$\n",
    "and $s=\\underset{p=1}{\\overset{P}{\\sum}}y_{p}^{2}$. From our review\n",
    "of the first order condition we then know that any stationary point\n",
    "of this function must satisfy the linear system $\\mathbf{Q}\\tilde{\\mathbf{w}}=-\\mathbf{r}$\n",
    "or equivalently\n",
    "\n",
    "\\begin{equation}\n",
    "\\left(\\underset{p=1}{\\overset{P}{\\sum}}\\tilde{\\mathbf{x}}_{p}^{\\,}\\tilde{\\mathbf{x}}_{p}^{T}\\right)\\tilde{\\mathbf{w}}=\\underset{p=1}{\\overset{P}{\\sum}}\\tilde{\\mathbf{x}}_{p}.\n",
    "\\end{equation}\n",
    "\n",
    "\n",
    "This can be solved using a variety of approaches. One numerically stable, albeit computationally slow, approach is to take the inverse (or 'pseudo-inverse') of the matrix on the left giving \n",
    "\n",
    "\\begin{equation}\n",
    "\\mathbf{\\tilde{w}^{\\star}}=\\left(\\underset{p=1}{\\overset{P}{\\sum}}\\mathbf{\\tilde{x}}_{p}^{\\,}\\mathbf{\\tilde{x}}_{p}^{T}\\right)^{-1}\\underset{p=1}{\\overset{P}{\\sum}}\\mathbf{\\tilde{x}}_{p}y_{p}.\n",
    "\\end{equation}\n",
    "\n",
    "\n"
   ]
  },
  {
   "cell_type": "markdown",
   "metadata": {},
   "source": [
    "### Example: putting the formula to work\n",
    "\n",
    "Now that we have an explicit formula for a minimum of the Least Squares cost function, let's put it to work.  In the following we will use the formula to  "
   ]
  },
  {
   "cell_type": "code",
   "execution_count": 8,
   "metadata": {
    "collapsed": false
   },
   "outputs": [],
   "source": [
    "%matplotlib inline\n",
    "import numpy as np\n",
    "import matplotlib.pyplot as plt"
   ]
  },
  {
   "cell_type": "markdown",
   "metadata": {},
   "source": [
    "Now load in the student loan data and create $\\bf{x}$ and $\\bf{y}$ vectors"
   ]
  },
  {
   "cell_type": "code",
   "execution_count": 14,
   "metadata": {
    "collapsed": false
   },
   "outputs": [],
   "source": [
    "my_data = np.genfromtxt('datasets/student_debt.csv', delimiter=',')\n",
    "x = my_data[:,0].reshape((len(my_data),1))\n",
    "y = my_data[:,1].reshape((len(my_data),1))"
   ]
  },
  {
   "cell_type": "markdown",
   "metadata": {},
   "source": [
    "Lets plot the data just to make sure we're all good\n"
   ]
  },
  {
   "cell_type": "code",
   "execution_count": 10,
   "metadata": {
    "collapsed": false
   },
   "outputs": [
    {
     "data": {
      "text/plain": [
       "<matplotlib.collections.PathCollection at 0x107cd9e90>"
      ]
     },
     "execution_count": 10,
     "metadata": {},
     "output_type": "execute_result"
    },
    {
     "data": {
      "image/png": "[encoded data removed]",
      "text/plain": [
       "<matplotlib.figure.Figure at 0x107968450>"
      ]
     },
     "metadata": {},
     "output_type": "display_data"
    }
   ],
   "source": [
    "plt.scatter(x,y)"
   ]
  },
  {
   "cell_type": "markdown",
   "metadata": {},
   "source": [
    "And now we can create the desired matrix"
   ]
  },
  {
   "cell_type": "code",
   "execution_count": 19,
   "metadata": {
    "collapsed": false
   },
   "outputs": [],
   "source": [
    "P = len(y)\n",
    "# start loop to create C and d \n",
    "Q = 0\n",
    "r = 0\n",
    "for p in range(0,P):\n",
    "    x_p = np.vstack((1,x[p]))  # stack 1 on top of pth point\n",
    "    y_p = y[p]\n",
    "    \n",
    "    # update Q\n",
    "    Q+= x_p*x_p.T           # careful - this is an outer product of vectors\n",
    "    \n",
    "    # update d\n",
    "    r-= y_p*x_p"
   ]
  },
  {
   "cell_type": "markdown",
   "metadata": {
    "collapsed": true
   },
   "source": [
    "Now that we have $\\mathbf{Q}$ and $\\mathbf{r}$ figured out - lets solve the linear system $\\mathbf{Q}\\mathbf{w} = - \\mathbf{r}$"
   ]
  },
  {
   "cell_type": "code",
   "execution_count": 20,
   "metadata": {
    "collapsed": false
   },
   "outputs": [],
   "source": [
    "w = np.linalg.solve(Q,-r)"
   ]
  },
  {
   "cell_type": "markdown",
   "metadata": {},
   "source": [
    "Now that this is all done we can plot our predictor on the student data we can plot our linear predictor on top of the dataset"
   ]
  },
  {
   "cell_type": "code",
   "execution_count": 21,
   "metadata": {
    "collapsed": false
   },
   "outputs": [
    {
     "data": {
      "text/plain": [
       "<matplotlib.text.Text at 0x107f70650>"
      ]
     },
     "execution_count": 21,
     "metadata": {},
     "output_type": "execute_result"
    },
    {
     "data": {
      "image/png": "[encoded data removed]",
      "text/plain": [
       "<matplotlib.figure.Figure at 0x108085450>"
      ]
     },
     "metadata": {},
     "output_type": "display_data"
    }
   ],
   "source": [
    "x_in = np.linspace(2003,2016)\n",
    "y_predicted = w[0] + x_in*w[1]    # our linear model\n",
    "plt.plot(x_in,y_predicted,'m') \n",
    "plt.scatter(x,y)\n",
    "plt.xlabel('year')\n",
    "plt.ylabel('total student debt in the U.S.')"
   ]
  },
  {
   "cell_type": "markdown",
   "metadata": {
    "collapsed": true
   },
   "source": [
    "## References\n",
    "\n",
    "[1] Jeremy Watt, Reza Borhani, and Aggelos. Katsaggelos. Machine Learning Refined. Cam- bridge University Press, 2016."
   ]
  }
 ],
 "metadata": {
  "kernelspec": {
   "display_name": "Python 2",
   "language": "python",
   "name": "python2"
  },
  "language_info": {
   "codemirror_mode": {
    "name": "ipython",
    "version": 2
   },
   "file_extension": ".py",
   "mimetype": "text/x-python",
   "name": "python",
   "nbconvert_exporter": "python",
   "pygments_lexer": "ipython2",
   "version": "2.7.11rc1"
  }
 },
 "nbformat": 4,
 "nbformat_minor": 0
}
