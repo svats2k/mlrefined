{
 "cells": [
  {
   "cell_type": "markdown",
   "metadata": {},
   "source": [
    "# Introcuction to machine learning: foundations, algorithms, and applications "
   ]
  },
  {
   "cell_type": "markdown",
   "metadata": {},
   "source": [
    "## Machine learning in a nutshell"
   ]
  },
  {
   "cell_type": "markdown",
   "metadata": {},
   "source": [
    "# Overview"
   ]
  },
  {
   "cell_type": "markdown",
   "metadata": {},
   "source": [
    "Welcome! This set of notes will guide you through the first week of materials for the course. This week we will be taking an whirlwind tour of machine learning, from the multitude of current applications to a high level introduction to the basic building blocks of machine learning. We will also be diving into an array of cool applications and demos in Python v2.7 - so please come to both of the first week sessions with your laptop and the libraries listed in the course syllabus pre-installed. "
   ]
  },
  {
   "cell_type": "markdown",
   "metadata": {},
   "source": [
    "# 1.  How is machine learning used today?"
   ]
  },
  {
   "cell_type": "markdown",
   "metadata": {},
   "source": [
    "Machine learning as it exists today is a set of data-driven tools for determining how the input and output of a given system are related or - in other words - the rules that govern a system.   Lets briefly discuss some popular applications of machine learning today \n",
    "\n",
    "* **target advertising** - big tech companies (think Google, Facebook, etc.,) use machine learning to create useful rules that determine which online advertisement (the output) to show a user based on their personal information (the input) \n",
    "\n",
    "\n",
    "* **self driving cars** - cameras on a self-driving car constantly scan the car's surrounding enviroment, with the captured images (the input) scanned for objects (the output) like pedestrians, roadsigns and roadmarkers, etc., that will tell the car how to behave\n",
    "\n",
    "\n",
    "* **face detection on your phone** - commonly built in to most smartphones' photo app, the input (an image) to your camera is scanned for the presence of faces (the output) placing a small square around any detected face - the camera is then automatically focused on these regions to help take in focus snapshots\n",
    "\n",
    "\n",
    "* **automatic trading** - financial engineers use machine learning to predict the future price of a stock/bond/comodity in order make buy / sell decisions, typically based a variety of inputs like e.g., previous prices, economic indicators \n",
    "\n",
    "\n",
    "* **matching and recommendations** - used to connect people to people for e.g., professional (think Linkedin) or romantic (think OKcupid / Match) reasons, and people to products (e.g., Amazon, Netflix, etc.,)\n",
    "\n",
    "\n",
    "* **speech recognition** - like face detection, another technology on most smartphones today - voice command systems like Siri, Echo, Google Voice, Cortana, Dragon, etc., are built on core of machine learning algorithms that translate a voice command (the input) into a command the phone can perform (the output) \n",
    "\n",
    "\n",
    "* **analtyics and business intelligence** - how can we make business process X (the input) more effecient (the output)?\n",
    "\n",
    "\n",
    "* **genetic data mining** - which few genes (the input) often correlate with the prescence of disease X (the output)? if we can determine these relationships maybe gene-targeted drugs can be developed "
   ]
  },
  {
   "cell_type": "markdown",
   "metadata": {},
   "source": [
    "# 2  Why is machine learning so hot right now?\n",
    "\n",
    "The underlying technology of machine learning itself has not actually changed that much in the last 25 years - this includes the fundamental models and mathematical algorithms we will cover in this course (including the popular deep neural networks framework). So why is machine learning so hot today? Because while the fundamentals have largely remained the same computer power has not - they grown exponentially more powerful during this time. The same goes for our access to large datasets - Google, Amazon, Facebook, Apple (at least as we know it today), etc.,, none of these enormous data-stockpiling companies existed 25 years ago. \n",
    "\n",
    "As we will see in this course learning algorithms are often very data-hungry, meaning that often times a large amount of data is required for machine learning to work well in practice. Associated with this need for large quantities of data is a computational burden that does not always scale gracefully with the size of a dataset. Thus, in summary, today with access to large data sets and powerful computers machine learning can finally be used to great effect."
   ]
  },
  {
   "cell_type": "markdown",
   "metadata": {},
   "source": [
    "# 3 The two fundamental types machine learning problems today\n",
    "\n",
    "Lets briefly discuss the two fundamental types of machine learning problems which are the sum total result of many generations worth of development in the field. Yes - there are only really two so far - albeit each has a number of subspecies. Virtually every person working in machine learning, from the theoretical researcher to the scrappy data scientist, works on one or more of these tasks (thus a major goal of this course is to familiarize you with the inner workings of these problems). These are the problems of prediction - of which regression and classification are the two major problems - and dimension reduction - of which feature selection and clustering play the most fundamental roles. While these carve out only a narrow band of what we might consider to be a human-level (artificial) intelligence - there is still an enormous amount of work to be done in developing new machine learning tasks - the two fundamental problems are nonetheless extremely useful e.g., every application we have and will discuss fall into one of these two basic problem types, with new applications being made all the time. \n",
    "\n",
    "## 3.1 Prediction problems\n",
    "\n",
    "With prediction problems (called supervised learning problems in the jargon of machine learning) we are always trying to learn a relationship between some sort of input and output to a system using some example pairs - our dataset. In other words, prediction problems are all about learning how an \n",
    "\n",
    "### Regression - predict something that takes on continuous values\n",
    "\n",
    "I am guessing you have seen you have all seen a line or curve fit to a dataset, right? The problem of regression is one of using some sort of input (called a feature in machine learning jargon) or multiple inputs to predict a continuous (or essentially continuous) output. Often this is just done to produce a trend line that summarizes the nature of the data under study. For example, shown below is a dataset of points whose input (feature) is the number of search queries for a movie via Google and output its associated opening box office take (this image is taken from [2]). Here the regression line makes the point \"quantity of Google search queries is an excellent indicator of opening weekend box office success\".\n",
    "\n",
    "<img src=\"images/movie_prediction.png\" width=400 height=300/>\n",
    "\n",
    "\n",
    "Here's an even better example - where a trend line really represents the underlying phenomenon extremely well. The figure below (taken from [#MLrefined]) shows a dataset of quarterly measurements of total student debt in the U.S. from 2006 to 2014 (the input feature is time while the output is total debt in trillions of dollars) along with a corresponding regression line. The regression line (shown in magenta) fits the data extremely well and simply helps deliver the gist of this particular dataset: \"student debt in the U.S. is increased at a constant (and perhaps terrifying) rate over the years 2006 - 2014\". This also gives us a fairly trustworthy tool for predicting total student debt in the future - our regression line: to make an estimate for total student debt in, say, the last quarter of 2015 we just plug this value into the learned linear model. \n",
    "\n",
    "<img src=\"files/files/student_debt.png\" width=400 height=250/>\n",
    "\n",
    "\n",
    "Of course its not always the case that a line is a good choice for representing a dataset. For example, here is a dataset of average monthly temperatures in Chicago from the year 2010 - 2012 (here the input feature is again time while the output is average monthly temperature in Farenheight). Fitting a line to this dataset would be counter productive - the input (time) and output (average temperature) are not linearly related - they are (more or less) related periodically to one another (e.g., every January tends to be cold, and every July tends to be hot). If we want to make predictions (e.g., what will the average temperature be in July of the current year?) we will need to fit some nonlinear curve or function to this dataset (which we'll do around class # 3). \n",
    "\n",
    "<img src=\"files/files/chicago_weather.png\" width=600 height=500/>\n",
    "\n",
    "\n",
    "\n",
    "### Classification - predict something that takes on discrete values \n",
    "\n",
    "Like regression, classification is a prediction task where we aim to learn the relationship between a dataset consisting of input (again called a feature in machine learning jargon) or multiple inputs and output. In complete analogy to basic regression, where one aims to fit a line to a dataset of input/output points, with basic classification one aims to separate or distinguish two types of data using a line. This is shown figuratively in the picture below, taken from [1]), where two different classes of data points (here colored red and blue respectively) are distinguished by learning the parameters of a line (or in higher dimensions a hyperplane) that nicely separates them. Here each data point consists of two inputs or features with corresponding output being its class number (or, likewise, its color). \n",
    "\n",
    "<img src=\"files/files/classification_prototype.png\" width=400 height=400/>\n",
    "\n",
    "\n",
    "Have you ever taken a picture with your smartphone and noticed how a little square gets placed around any face in your viewfinder? This is a classification task known as face detection, and it is done so that your phone's camera knows where to focus when taking a photo. Facebook and other photo sharing schemes often employ face detection as well in order to organize photos efficiently. Below is a diagram from [1] that shows pictorially how face detection is framed as a classification problem. First an input image (here a shot of the famous Wright Brothers [3], inventors of the airplane) is examined block-by-block and the features of each block, once extracted, are represented as a point in some high dimensional space (as shown figuratively in the right panel). If these features are designed properly than those blocks containing faces (here colored blue) should be separable by a hyperplane (whose parameters we must learn) from those which contain other items in the image (here colored red). \n",
    "\n",
    "<img src=\"files/files/wright_bros_face_detect.png\" width=600 height=500/>\n",
    "\n",
    "\n",
    "The task of identifying general objects in a visual scene like e.g., bicycles, chairs, etc. is also a classification task called object detection. Beyond being a staple ability of what we might consider to be even relatively intelligent (artificial) beings, the process of object detection is indispensable in e.g., self-driving cars, so that a self-driving vehicle can identify things like road markers, street signs, and pedestrians (which it aims to avoid). \n",
    "\n",
    "Some additional popular classification tasks we have briefly discussed also include speech recognition, sentiment analysis, high frequency trading, and the facial recognition (that is, given a picture of a face recognizing who that person is). \n",
    "\n",
    "## Dimension reduction - create a simpler representation of a dataset\n",
    "\n",
    "The phrase 'dimension reduction' often refers to the (proper) shrinking of large dimensional input, i.e., the number of input features to a given problem, or to the (proper) shrinking of a large dataset. Dimension reduction procedures almost always play a supportive role by either enabling more computationally efficient parameter tuning for regression / classification / reinforcement problems, or by providing 'a human in the loop' insight as to how the input and output of a problem are related. The former motivation is strictly practical: training a model on dataset that has too many input features and / or data points can be a computationally costly (and thus slow) procedure. If you need something to work fast, or on the fly even, then you make the associated computation much more tractable by properly reducing the dimension of your data before training. The latter reason to reduce the dimension of your input or dataset is more esoteric: you (a human being, purportedly) want to understand the nature your dataset. How are the inputs and output related? Which input features best predict the associated output? Which individual datapoints are widely representative of large sections of your data? Lets look at a few common examples to grow our intuition. \n",
    "\n",
    "\n",
    "* **text data** - Web documents are often represented as word-frequency vectors when performing common machine learning tasks (like e.g., document clustering sentiment analysis), and these document vector features can be quite long (from the hundreds to the tens of thousands) as they contain an entry for each word in a reference dictionary. Therefore one often looks to reduce the dimension of text data by e.g., keeping only those words listed X times or more in a given corpus, or by projecting the entire vector onto a proper lower dimensional subspace using Principal Component Analaysis or a related method. \n",
    "\n",
    "\n",
    "* **image data** - A digital grayscale image is made up of many little square pixels (e.g., a megapixel image consists of 1 million pixels) arranged in a regular rectangular grid, and each pixel or little square can be thought of as a number that represents the pixel's brightness level between 0 (black) and 255 (white). In short, a grayscale image is an array (of vertical and horizontal dimensions equal to the number of pixels spanning the height and width of the image, respectively) whose (i,j)th entry is a number between 0 - 255 representing the pixel intensity of the corresponding (i,j)th pixel in the image. A color image consists of three such equally sized arrays, one for red, green, and blue channels. This means that even a small thumbnail size (grayscale) image of 100x100 pixels, about the size of a folder icon on your computer desktop, has 1002 = 10,000 input features. This is already too large for efficient tuning of predictive tasks like object detection, and because of this a dimension reduction technique called pooling is often (repeatedly) performed to an input image in order to make learning tasks more computationally manageable.\n",
    "\n",
    "\n",
    "* **financial data** - Financial firms regularly place big bets on whether the price of e.g., stocks, bonds, etc., will the rise or fall in the near future, or likewise whether they should be buying / selling / shorting. However often it is a-priori unclear which individual inputs (e.g., the price of certain commodities, other stocks, etc.,) best predict the value of such instruments, and so often an analyst will collect every possible input they can get their hands on and then try to methodically select the most indicative features from the bunch via cross-validation. This form of dimension reduction arises in almost every application domain, and is often referred to as feature selection.\n",
    "\n",
    "\n",
    "* **genetic data** - A standard genetics dataset might consist of the genetic profile of each member from a group of test patients, where each genetic profile contains thousands (or tens of thousands) of values resulting from the chemical treatment of a single patient's genetic material. Using this sort of data one would then like to determine what sort of genetic profile is indicative of a particular disease like e.g., diabetes or Alzheimer's. Moreover it is of particular interest to narrow down the thousands of genes measured for each patient to just a handful of powerfully indicative ones, as doing so provides opportunity to design gene-targeted therapies which could potentially ameliorate a disease. This is another example of feature selection and is a universal problem in bioinformatics applications of machine learning.\n",
    "\n",
    "\n",
    "* **customer data** - By providing strong recommendations companies help onboard customers and keep them engaged with their products, services, or content. Often such recommender systems work, at least in part, by reducing a large customer base down to a handful of fundamental customer profiles. Then recommendations are given to an individual customer based on the products / services / content that other customers of the same profile type have already tried and highly rated. "
   ]
  },
  {
   "cell_type": "markdown",
   "metadata": {},
   "source": [
    "# The two basic elements of every machine learning problem"
   ]
  },
  {
   "cell_type": "markdown",
   "metadata": {},
   "source": [
    "Now that we are somewhat familiar with the two basic problems of machine learning, at least at a high level, lets zoom out one more level to look at two important technical elements shared by both these tasks  These are referred to as *feature design* and *mathematical optimization* respectively. Each will be a constant subject of the course as we fully discuss machine learning problems. \n",
    "\n",
    "#  1.  Feature design\n",
    "\n",
    "Remember that the term *feature* means *input* in the parlance of machine learning.  What, then, does it mean to 'design' a feature or set of features?  We will use the phrase 'feature design' 'to refer to two ideas - each of which is extremely important in practical application of machine learning\n",
    "\n",
    "1.  Selecting a few relevant features from a large pool of candidates - this very commonly occurs in e.g., the financial and genetic applications discussed previously\n",
    "\n",
    "2.  Mathematically transforming a given set of inputs to capture nonlinearity in a dataset - this is virtually always done with applications in images, text, and speech \n",
    "\n",
    "\n",
    "\n",
    "## 1.1  Selecting relevant features\n",
    "\n",
    "Very often we must select the most proper input to a machine learning problem like e.g., regression because we while we might have something we wish to predict, we do not know what inputs will give us the greatest insight.  For example, if we wanted to predict the price of a particular stock one month from now - what should we use as our input?  Several possibly useful input features might come to mind - e.g., previous prices, certain economic indicators like the federal fund rate, maybe even the general sentiment of insightful financial journalists if we can get ahold of it - but a single 'silver bullet' input feature, i.e., one that perfectly describes the historical price of a stock, is not apparent.   \n",
    "\n",
    "So, based solely on the ignorance of what particular input would work best, a common approach is to try to find as many input features as possible, dump them into the model, and select the ones that are most indicative of our target output.  \n",
    "\n",
    "Let's look at a very simple example of doing this.  Suppose we're interested in understanding the total amount of student debt in the United States for the past decade or so, and predicting its future value.  This is a regression problem, and we have already seen in our previous introduction to the machine learning problem of regression that indeed the input feature *time* is a fairly good one for this output, as it correlates quite strongly with student debt.  But suppose we did not know this - because commonly in practice we will not have such insight - and that to compensate for our ignorance we gathered two candidate input features (remember that in practice we would try to gather as many viable inputs as we could).  \n",
    "\n",
    "Our two candidate input features are 1) time (in years) and 2) the annual sales of the Chiquita banana company.  What in the world do banana sales have to do with student debt?  Likely none - but lets take a look.  First lets take a look at the entire dataset - that is we use both inputs and the output.  Since we have two input features and one output the full dataset is 3-dimensional\n",
    "\n",
    "<img src=\"files/files/student_debt_and_chiquita_3D.png\" width=500 height=250/>\n",
    "\n",
    "Now lets look at each input individually with the output - unsurprisingly just glancing at the left panel (where the input feature is time) and right panel (where it is banana sales) time appears to be a much better input for predicting student debt.  Time is the far better choice of input here it almost perfectly correlates with the output, whereas the relationship between banana sales and student debt looks vague at best.\n",
    "\n",
    "<img src=\"files/files/student_debt_and_chiquita_2D.png\" width=500 height=250/>\n",
    "\n",
    "The feature design task of *feature selection* - which we will learn about in the course - will allow us to automate the task of selecting the better of these two input features - time - so that we can produce the most useful regression model possible.  More generally it will allow us determine the best feature or set of features for general regression problems as well.\n",
    "\n",
    "\n",
    "## 1.2  Transforming input features to capture nonlinearity\n",
    "\n",
    "Very often we must try to transform an input design the final features we feed into our machine learning model. We do this by leveraging our understanding of the phenomenon under study, and by encoding this knowledge into a tractable mathematical or computational transformation of given inputs. These transformed features - as we will see - allows for significantly greater learning. \n",
    "\n",
    "Before diving into the details for a modern problem, lets first discuss a revealing historical example of rule-finding. This will not only set the stage for the typical modern task but will highlight one of most critical challenges associated with today's machine learning problems.\n",
    "\n",
    "###   Galileo and the fundamental rule of gravity\n",
    "\n",
    "Galileo Galilei - the 17th century scientist and philosopher - is perhaps most famous for his championing of the Copernican model of the solar system (in which the sun was the center of the universe instead of the earth, a long held belief since the days of Aristotle) in the face of much scrutiny from the Catholic church - the governing institution of his time and place. But Galileo also discovered a huge array of scientific principles in his lifetime, and put other principles that were perhaps philosophically 'intuitive' at the time on more solid ground by creating experimental evidence of their veracity. His experiments in determining the rule of earth-bound gravity - which was later codified as Newton's second law - is just such an example. It combines an absolutely brilliant experimental design and approach to data collection with a straightforward application of rule finding via machine learning. \n",
    "\n",
    "\n",
    "In order to quantify the pull of gravity on an object Galileo designed the following experiment that measures how far an object falls in a given allotment of time. The basic idea behind the experiment was to drop an object - like a metal ball - multiple times at a fixed distance from the ground and measure how long it took the ball to traverse certain portions of the length. However because accurate enough timekeeping devices did not yet existIt was Galileo himself who, in studying pendulums, eventually led to the development of humankind's first accurate time pieces: the pendulum clock. This was the most precise instrument for keeping time for some 300 years - from about 1650 until the early 1930s. he had to slow things down in order to measure time precisely enough, and so instead of dropping the ball he rolled it down a smooth ramp starting from the top, as shown figuratively below (taken from [1]).\n",
    "\n",
    "<img src=\"files/files/galileo_ramp.png\" width=500 height=250/>\n",
    "\n",
    "\n",
    "Repeating this experiment a number of times, Galileo collected data on how long it took the ball to traverse certain portions of the ramp (specifically he measured how long it took the ball traverse $\\frac{1}{4}$, $\\frac{1}{2}$, $\\frac{2}{3}$, $\\frac{3}{4}$ and the full length of the ramp). Repeating this several time he averaged the results - leaving a single data point representing the average time it took the ball to travel  down each fraction of the ramp - as shown below (this data is actually taken from a modern reenactment of Galileo's experiment - see [1]).\n",
    "\n",
    "<img src=\"files/files/galileo_data.png\" width=250 height=250/>\n",
    "\n",
    "From philisophical reflection and visual examination of a dataset very much like this one, Galileo proposed a simple nonlinear rule that appeared to explain or equivalently generate this data: that the distance an object travels due to the pull of gravity is *quadratic* in time.  In other words, that\n",
    "\n",
    "\\begin{equation}\n",
    "\\text{portion of ramp traveled / distance an object travels}^{} =\\text{constant}^{}\\times^{}\\text{(time spent traveling)}^2\n",
    "\\end{equation}\n",
    "\n",
    "Fitting such a quadratic to the above dataset (by properly choosing the value of the constant) we can see that it does indeed represents the dataset quite well.\n",
    "\n",
    "<img src=\"files/files/galileo_data_and_fit.png\" width=250 height=250/>\n",
    "\n",
    "Moreover this quadratic rule - derived by examining such a simple dataset - was  found to be extremely accurate, standing up to both further empirical examination as well as philisophical study (e.g., it is the basis for Newton's second law of gravity).\n",
    " \n",
    "\n",
    "###  From Galiileo to machine learning\n",
    "\n",
    "In the example above, Galileo determined the quadratic rule for gravity by looking at his dataset and by employing his physical intuition.  Machine learning - in its current state - is a set of tools for replicating this (and only this) part of determining the rules that govern a given system.  That is, machine learning can automatically determine (using a dataset) \n",
    "\n",
    "1.  The correct nonlinear relationship between the input and output of a  system, in other words the correct nonlinear function of the input predicts  the output well - in the case of the Galileo example that the relationship between the time an object is falling and the distance it has traveled is quadratic\n",
    "\n",
    "2.   A proper value for the parameters of this (potentially) nonlinear relationship so that the rule fits the dataset well - in the case of the Galileo example this consists of a single constant\n",
    "\n",
    "\n",
    "\n",
    "Note - very importantly - what is not included here is *how* we get the data itself - an obviously critical component to forging rules.  Machine learning is a substitute for philisophical / scientific understanding and visual examination in the forging of rules, and so relies entirely on having solid datasets to work with.  The severity of this deficincy ranges from problem to problem, and for many of the examples listed in the first part of this section it is not really a problem at all given that the data in those cases is usally plentiful.  But in a case like Galileo's it is a very serious obstical -  here the data was compiled from a seriously ingenious experiment.  In short - machine learning cannot yet 'collect or create the right' data for determining rules, that part is still very much up to we humans.\n",
    "\n",
    "\n",
    "But enough of what it cannot do - let's celebrate what machine learning can do!  The fact machine learning can automatically determine the form of the potentially nonlinear relationship between inputs and outputs of a dataset, and tune associated parameters accordingly, gives us incredible power.  This is because there are many instances - as in the examples described in the first part of this section - where we can gather large datasets but the nature of this data - e.g., that it is too high dimensional to visualize - completely prevents us from even proposing a reasonable nonlinear rule.  \n",
    "\n",
    "Take the task of face detection for example - the technology that places a little square around faces when you take a picture with your smartphone (in order to focus the lens on these portions of the captured image).  In order to make this work one first collects a large database of small facial and non-facial images, like those shown below.   \n",
    "\n",
    "<img src=\"files/files/face_detection_data.tif\" width=400 height=400/>\n",
    "\n",
    "In order to make face detection work we want to use such a dataset to derive a rule that distinguishes facial images from non-facial ones.  Remember that a grayscale digitial image is made up of many small squares called 'pixels', each of which has a brightness level between 0 (completely black) and 255 (completely white). In other words a grayscale digital image can be thought of as a matrix or array whose $\\left(i,j\\right)^{th}$ value is equal to the brightness level of the $\\left(i,j\\right)^{th}$ pixel in the image. (A color image is then just a set of three such matrices, one\n",
    "for each color channel red, green, and blue).  \n",
    "\n",
    "<img src=\"files/files/nugety_pixels.png\" width=500 height=500/>\n",
    "\n",
    "In other words - our dataset consists of small *input* images (which are high dimensional arrays of pixel values) and their associated *output* type or *class* - either face or non-face.  Because the output class label 'face' and 'non-face' are not numeric in nature, these labels are translated into distinct numbers - e.g., +1 for a face image and -1 for a non-face image.  So, in other words, in order to determine a successful rule distinguishing faces from non-faces we must determine a (potentially) nonlinear function of image pixels which accurately returns +1 if the input image is a face, and -1 otherwise.  That is for some function $f$ that takes in an input image from the database\n",
    "\n",
    "\\begin{equation}\n",
    "\\text{class of input image} = f(\\text{input image pixels}) = \\begin{cases}\n",
    "+1 & \\,\\,\\text{if input is a face}\\\\\n",
    "-1 & \\,\\,\\text{if input is not a face}\n",
    "\\end{cases}\n",
    "\\end{equation}\n",
    "\n",
    "Machine learning, as we will see, can be used to automatically determine a proper form of for the function $f$ and properly tune its parameters.    Just think -  even determining a proper function for such a problem would be absolutely impossible to do 'by eye' - as we saw Galileo did with the gravity-experiment data - since the image data is far too high dimensional for us to even visualize.\n",
    "\n",
    "Once machine learning is used to properly determine a function and as well as its parameters, when one wants to detect faces in a new full image (as on your smartphone) a small window square window is passed over all regions of the input image.  The content in each small windowed - image is then passed through the function $f$ to determine if it contains a face or not, as illustrated figuratively below.\n",
    "\n",
    "<img src=\"files/files/sliding_window.bmp\" width=500 height=500/>\n",
    "\n",
    "### In summary\n",
    "\n",
    "**Feature design** is the task of selecting the right input or determining the proper nonlinear relationship between the given input and output of a system, in other words the a nonlinear function of the input predicts which accurately predicts the output \n",
    "\n",
    "**However gathering or creating proper datasets is still up to we humans.**"
   ]
  },
  {
   "cell_type": "markdown",
   "metadata": {},
   "source": [
    "# 2.   Mathematical optimization\n",
    "\n",
    "Every learning problem has parameters that must be tuned properly to ensure optimal learning. For example, there are two parameters that must be properly tuned in the case linear regression (with one dimensional input): the slope and intercept of the linear model.  These two parameters are tune by forming a 'cost function' - a continuous function in both parameters - that measures how well the linear model fits a dataset given a value for its slope and intercept.  The proper tuning of these parameters via the cost function corresponds geometrically to finding the values for the parameters that make the cost function as small as possible or, in other words, *minimize* the cost function.  In the image below - taken from [MLRefined] - you can see how choosing a set of parameters higher on the cost function results in a corresponding linear fit that is poorer than the one corresponding to parameters at the lowest point on the cost surface.\n",
    "\n",
    "<img src=\"files/files/bigpicture_regression_optimization.png\" width=500 height=250/>\n",
    "\n",
    "\n",
    "This same idea holds true for regression with higher dimensional input, as  as well as classification where we must properly tune the intercept and normal vector to the fitting hyperplane.  Again, the parameters minimizing the cost function provide the better classification result.  This is illustrated for classification below - again taken from [1].\n",
    "\n",
    "<img src=\"files/files/bigpicture_classification_optimization.png\" width=500 height=250/>\n",
    "\n",
    "The tuning of these parameters is accomplished by a set of tools known collectively as mathematical optimization. Mathematical optimization is the formal study of how to properly minimize cost functions and is used not only in machine learning, but reasons in a variety of other fields including operations, logistics, and physics."
   ]
  },
  {
   "cell_type": "markdown",
   "metadata": {},
   "source": [
    "##  1.1  Our first foray into mathematical optimization\n",
    "\n",
    "NOTE: review basic calculus, linear algebra, numpy / matplotlib, etc., prior to going over this section\n",
    "\n",
    "So, we want to minimize, or equivalently find a \\emph{minimum }point of, a (cost) function. You may remember that such a task is actually a fundamental subject of basic calculus, which we will now review.  For now lets simplify notation a bit and discuss this concept for a general function $g\\left(w\\right)$ which take in a scalar input\n",
    "$w$ (we'll generalize to vector input functions afterwards).\n",
    "\n",
    "Remember that geometrically speaking the derivative of $g\\left(w\\right)$ at a particular point $v$, which we will write as $ $$g^{\\prime}\\left(v\\right)$, is the *slope* of the line tangent to that point.   "
   ]
  },
  {
   "cell_type": "markdown",
   "metadata": {},
   "source": [
    "#### Example: a simple polynomial with its derivative\n",
    "\n",
    "Take the function $g(w) = w^2$.  The derivative here is then just $g'(w) = 2w$.  \n",
    "\n",
    "Let's plot the function along with a few examples of tangent lines generated by its derivative at the points $w=0$, $w = -1$, and $w = 1$."
   ]
  },
  {
   "cell_type": "code",
   "execution_count": 103,
   "metadata": {
    "collapsed": false
   },
   "outputs": [],
   "source": [
    "# import matplotlib and numpy - the next line lets us plot inline in the notebook\n",
    "%matplotlib inline   \n",
    "import matplotlib.pyplot as plt\n",
    "import numpy as np"
   ]
  },
  {
   "cell_type": "code",
   "execution_count": 104,
   "metadata": {
    "collapsed": false
   },
   "outputs": [
    {
     "data": {
      "image/png": "[encoded data removed]",
      "text/plain": [
       "<matplotlib.figure.Figure at 0x10cc06a10>"
      ]
     },
     "metadata": {},
     "output_type": "display_data"
    }
   ],
   "source": [
    "# evaluate our function over input range, or at single points\n",
    "def make_function(w_eval):\n",
    "    g = w_eval**2\n",
    "    return g\n",
    "\n",
    "# evaluate the derivative of our function over an input range, or at single points\n",
    "def make_derivative(w_eval):\n",
    "    g_prime = 2*w_eval\n",
    "    return g_prime\n",
    "\n",
    "# create a tangent line at a given input with slope = derivative\n",
    "def make_tangent_line(w_eval):\n",
    "    # compute function value\n",
    "    g = make_function(w_eval)\n",
    "    \n",
    "    # compute the derivative\n",
    "    g_prime = make_derivative(w_eval)\n",
    "    \n",
    "    # generate line with this slope - center on input point\n",
    "    w = np.linspace(w_eval - 0.7,w_eval + 0.7,100)\n",
    "    h = g + g_prime*(w - w_eval)\n",
    "    plt.plot(w,h)\n",
    "\n",
    "# create function over the range [-2,2]\n",
    "w = np.linspace(-2,2,100)\n",
    "g = make_function(w)\n",
    "\n",
    "# plot function\n",
    "plt.plot(w,g)\n",
    "plt.xlabel('w')\n",
    "plt.ylabel('g(w)     ',rotation = 0)\n",
    "plt.title('function and tangent lines w derivative slope')\n",
    "plt.ylim(-0.3,4)\n",
    "\n",
    "# compute tangent lines at points = 0, 1, and -1 and plot\n",
    "make_tangent_line(0)\n",
    "make_tangent_line(1)\n",
    "make_tangent_line(-1)"
   ]
  },
  {
   "cell_type": "markdown",
   "metadata": {},
   "source": [
    "Now, examining any differentiable $g\\left(w\\right)$ we can easily conclude that minima are naturally located where the slope of the linear approximation is zero, i.e., at points $w=v$ where $g^{\\prime}\\left(v\\right)=0$. This gives us a simple looking rule for identifying minima of a scalar input function $g$ called the *first order condition* - just find a point $v$ satisfying $g^{\\prime}\\left(v\\right)=0$. \n",
    "\n",
    "However closer examination shows that often other non-minima points also satisfy this rule.  If we just look more closely at the wiggly function $g$ in the picture below (taken from [Watt]) we can see that the other points satisfying this condition include maxima and saddle points of a function as well.  Notice that any minimum taking on the lowest possible value of the function is also referred to as a *global minimum*.\n",
    "\n",
    "<img src=\"files/files/nonconvex.png\" width=500 height=250/>\n",
    "\n",
    "Collectively these minima, maxima, and saddle points are often referred to as *stationary* or *critical points*. \n",
    "\n",
    "> the *first order condition* gives all stationary points by solving for all input $v$ where $g'(v) =0$, however a stationary point for some general function can be a minimum, maximum,or saddle point \n",
    "\n",
    "Below is a picture (taken from [1]) of a special kind of function that we will see throughout the course - a *convex function* - along its critical point marked.  These functions are special because any critical is always a minimum and - in fact - a *global minimum* as well.  The more general type of function illustrated above - with its many different kinds of critical points - is referred to as a *nonconvex function*.\n",
    "\n",
    "> all stationary points of a convex function are global minima\n",
    "\n",
    "<img src=\"files/files/convex.png\" width=500 height=250/>\n",
    "\n",
    "Let's look at a few examples where we can compute critical points 'by hand'."
   ]
  },
  {
   "cell_type": "markdown",
   "metadata": {},
   "source": [
    "#### Example:  $g\\left(w\\right)=w^{2}$  \n",
    "\n",
    "A simple quadratic or parabola.  Lets plot the function over a wide range of values. "
   ]
  },
  {
   "cell_type": "code",
   "execution_count": 105,
   "metadata": {
    "collapsed": false
   },
   "outputs": [
    {
     "data": {
      "text/plain": [
       "[<matplotlib.lines.Line2D at 0x10ea64050>]"
      ]
     },
     "execution_count": 105,
     "metadata": {},
     "output_type": "execute_result"
    },
    {
     "data": {
      "image/png": "[encoded data removed]",
      "text/plain": [
       "<matplotlib.figure.Figure at 0x10dbb3950>"
      ]
     },
     "metadata": {},
     "output_type": "display_data"
    }
   ],
   "source": [
    "x = np.linspace(-30,30,100)\n",
    "y = x**2\n",
    "plt.plot(x,y)"
   ]
  },
  {
   "cell_type": "markdown",
   "metadata": {},
   "source": [
    "We can see from the picture that it has a unique global minimum at $w=0$. Let's see how the first order condition finds this point. \n",
    "\n",
    "Setting the derivative to zero we have $g^{\\prime}\\left(w\\right)=2w=0$, and the only value for $w$ making this true is indeed $w=0$."
   ]
  },
  {
   "cell_type": "markdown",
   "metadata": {},
   "source": [
    "#### Example: $g\\left(w\\right)=w^{3}$  \n",
    "\n",
    "A simple cubic, lets plot it first.  "
   ]
  },
  {
   "cell_type": "code",
   "execution_count": 106,
   "metadata": {
    "collapsed": false
   },
   "outputs": [
    {
     "data": {
      "text/plain": [
       "[<matplotlib.lines.Line2D at 0x10f20ed90>]"
      ]
     },
     "execution_count": 106,
     "metadata": {},
     "output_type": "execute_result"
    },
    {
     "data": {
      "image/png": "[encoded data removed]",
      "text/plain": [
       "<matplotlib.figure.Figure at 0x10f1e8f90>"
      ]
     },
     "metadata": {},
     "output_type": "display_data"
    }
   ],
   "source": [
    "x = np.linspace(-30,30,100)\n",
    "y = x**3\n",
    "plt.plot(x,y)"
   ]
  },
  {
   "cell_type": "markdown",
   "metadata": {},
   "source": [
    "Visually we can see that it goes off to positive and negative infinity, and has one saddle point at $w=0$. Lets check that the first order condition gives us this too. \n",
    "\n",
    "We have that $g^{\\prime}\\left(w\\right)=3w^{2}=0$\n",
    "and, again, the only value of $w$ satisfying this is $w=0$"
   ]
  },
  {
   "cell_type": "markdown",
   "metadata": {},
   "source": [
    "#### Exercise: $g\\left(w\\right)=\\mbox{sin}\\left(w\\right)$  \n",
    "\n",
    "A sine wave - this will have lots of stationary points - let's plot it!"
   ]
  },
  {
   "cell_type": "code",
   "execution_count": 107,
   "metadata": {
    "collapsed": false
   },
   "outputs": [
    {
     "data": {
      "text/plain": [
       "[<matplotlib.lines.Line2D at 0x10f05f050>]"
      ]
     },
     "execution_count": 107,
     "metadata": {},
     "output_type": "execute_result"
    },
    {
     "data": {
      "image/png": "[encoded data removed]",
      "text/plain": [
       "<matplotlib.figure.Figure at 0x10f000b50>"
      ]
     },
     "metadata": {},
     "output_type": "display_data"
    }
   ],
   "source": [
    "x = np.linspace(-10,10,100)\n",
    "y = np.sin(x)\n",
    "plt.plot(x,y)"
   ]
  },
  {
   "cell_type": "markdown",
   "metadata": {},
   "source": [
    "##  1.2  Our first foray - the vector input case\n",
    "\n",
    "Everything we have said so far holds precisely for the vector input case as well. The first order condition still recovers all stationary points of a vector-input function, and for convex functions these are all global minima.  The only thing that changes are the formulae, and then only slightly.  A vector input function $g(\\mathbf{w})$ is simply one that takesn in a vector of $N$ parameters \n",
    "\n",
    "\\begin{equation}\n",
    "\\mathbf{w}=\\left[\\begin{array}{c}\n",
    "w_{1}\\\\\n",
    "w_{2}\\\\\n",
    "\\vdots\\\\\n",
    "w_{N}\n",
    "\\end{array}\\right]\n",
    "\\end{equation}\n",
    "\n",
    "The derivative then generalizes in the case of vector input functions $g\\left(\\mathbf{w}\\right)$ to the \"gradient\", or an $N\\times1$ vector of partial derivatives of $g\\left(\\mathbf{w}\\right)$ as \n",
    "\n",
    "\\begin{equation}\n",
    "\\nabla g\\left(\\mathbf{w}\\right)=\\left[\\begin{array}{c}\n",
    "\\frac{\\partial}{\\partial w_{1}}g\\\\\n",
    "\\frac{\\partial}{\\partial w_{2}}g\\\\\n",
    "\\vdots\\\\\n",
    "\\frac{\\partial}{\\partial w_{N}}g\n",
    "\\end{array}\\right].\n",
    "\\end{equation}\n",
    "\n",
    "In complete analogy to the one dimensional input case where we found stationary points by finding those $v$ where $g^{\\prime}\\left(v\\right)=0$, the first order condition for recovering stationary points of $g\\left(\\mathbf{w}\\right)$\n",
    "has us find those $\\mathbf{v}$ that have zero gradient, i.e., $\\nabla g\\left(\\mathbf{v}\\right)=\\mathbf{0}_{N\\times1}$.\n",
    "Notice how indeed the condition $\\nabla g\\left(\\mathbf{v}\\right)=\\mathbf{0}_{N\\times1}$\n",
    "reduces to $g^{\\prime}\\left(v\\right)=0$ when $N=1$. However notice that in the case where $N>1$ this first order condition is a *system* of $N$ equations i.e., \n",
    "\n",
    "\\begin{equation}\n",
    "\\begin{array}{c}\n",
    "\\frac{\\partial}{\\partial w_{1}}g=0,\\\\\n",
    "\\frac{\\partial}{\\partial w_{2}}g=0,\\\\\n",
    "\\vdots\\\\\n",
    "\\frac{\\partial}{\\partial w_{N}}g=0.\n",
    "\\end{array}\n",
    "\\end{equation}\n",
    "\n",
    "The catch here, which will lead us to discuss numerical methods for minimizing cost functions, is that typically these systems of equations cannot be solved in closed form (using 'pencil and paper').  One important exception to this rule is the quadratic function, which we looked at in one input dimension earlier."
   ]
  },
  {
   "cell_type": "markdown",
   "metadata": {},
   "source": [
    "####  Example (advanced): quadratic function with multi-dimensional input\n",
    "\n",
    "Earlier we looked at the one dimesnional input quadratic function $g(w) = w^2$.  More generally such a quadratic takes the form  \n",
    "\n",
    "\\begin{equation}\n",
    "g(w) = \\frac{1}{2}qw^2 + rw +s\n",
    "\\end{equation}\n",
    "\n",
    "where a, b, and c are constants.  Notice we can write this equivlaently as $g(w) = \\frac{1}{2}wqw + rw +s$.  The higher dimensional analog, where the function takes in vector-valued input $\\bf{w}$, is similarly defined as \n",
    "\n",
    "\\begin{equation}\n",
    "g(\\mathbf{w}) = \\frac{1}{2}\\mathbf{w}^T\\mathbf{Q}\\mathbf{w} + \\mathbf{r}^T\\mathbf{w} + s\n",
    "\\end{equation}\n",
    "\n",
    "Here $\\mathbf{Q}$ is an $N\\times N$ symmetric matrix \n",
    "\n",
    "\\begin{equation}\n",
    "\\mathbf{Q}=\\left[\\begin{array}{cccc}\n",
    "q_{1,1} & q_{1,2} & \\cdots & q_{1,N}\\\\\n",
    "q_{2,1} & q_{2,2}\\\\\n",
    "\\vdots &  & \\ddots\\\\\n",
    "q_{N,1} &  &  & q_{N,N}\n",
    "\\end{array}\\right]\n",
    "\\end{equation}\n",
    "\n",
    "that is $q_{i,j} = q_{j,i}$ for all $i$ and $j$, $\\mathbf{r}$ is an $N$ dimensional vector, and $s$ is a constant.\n",
    "\n",
    "\n",
    "Computing the gradient - one can do this by computing one partial at a time and combining the results - gives the gradient as \n",
    "\n",
    "\\begin{equation}\n",
    "\\nabla g\\left(\\mathbf{w}\\right) = \\mathbf{Q}\\mathbf{w} + \\mathbf{r} = \\mathbf{0}\n",
    "\\end{equation}\n",
    "\n",
    "And setting this equal to zero and solving for $\\mathbf{w}$ gives a linear system\n",
    "\n",
    "\\begin{equation}\n",
    "\\mathbf{Q}\\mathbf{w} = -\\mathbf{r} \n",
    "\\end{equation}\n",
    "\n",
    "which can be solved!"
   ]
  },
  {
   "cell_type": "markdown",
   "metadata": {},
   "source": [
    "## References\n",
    "\n",
    "[1]  Jeremy Watt, Reza Borhani, and Aggelos. Katsaggelos. Machine Learning Refined. Cam- bridge University Press, 2016.\n",
    "\n",
    "[2]  Reggie Panaligan and Andrea Chen. Quantifying movie magic with google search. Google\n",
    "Whitepaper:Industry Perspectives and User Insights, 2013.\n",
    "\n",
    "[3]  David G.Â McCullough. The Wright Brothers. Simon & Schuster, 2015."
   ]
  }
 ],
 "metadata": {
  "kernelspec": {
   "display_name": "Python 2",
   "language": "python",
   "name": "python2"
  },
  "language_info": {
   "codemirror_mode": {
    "name": "ipython",
    "version": 2
   },
   "file_extension": ".py",
   "mimetype": "text/x-python",
   "name": "python",
   "nbconvert_exporter": "python",
   "pygments_lexer": "ipython2",
   "version": "2.7.11rc1"
  }
 },
 "nbformat": 4,
 "nbformat_minor": 0
}
